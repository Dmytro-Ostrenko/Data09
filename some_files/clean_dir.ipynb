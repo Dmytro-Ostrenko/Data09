{
  "nbformat": 4,
  "nbformat_minor": 0,
  "metadata": {
    "colab": {
      "provenance": [],
      "authorship_tag": "ABX9TyOXT1eFe+Cr1MW7SWUhl9eD",
      "include_colab_link": true
    },
    "kernelspec": {
      "name": "python3",
      "display_name": "Python 3"
    },
    "language_info": {
      "name": "python"
    }
  },
  "cells": [
    {
      "cell_type": "markdown",
      "metadata": {
        "id": "view-in-github",
        "colab_type": "text"
      },
      "source": [
        "<a href=\"https://colab.research.google.com/github/Dmytro-Ostrenko/Data09/blob/dev/clean_dir.ipynb\" target=\"_parent\"><img src=\"https://colab.research.google.com/assets/colab-badge.svg\" alt=\"Open In Colab\"/></a>"
      ]
    },
    {
      "cell_type": "code",
      "execution_count": null,
      "metadata": {
        "id": "rb-0_21RGTmm"
      },
      "outputs": [],
      "source": [
        "# ДЛЯ ОЧИСТКИ ДИРЕКТОРІЇ\n",
        "import shutil\n",
        "import os\n",
        "\n",
        "# Шлях до директорії тюнінгу\n",
        "tuner_dir = 'my_dir/cifar10_vgg16'\n",
        "\n",
        "# Видалення директорії тюнінгу, якщо вона існує\n",
        "if os.path.exists(tuner_dir):\n",
        "    shutil.rmtree(tuner_dir)\n",
        "    print(f\"Видалено директорію тюнінгу: {tuner_dir}\")\n",
        "else:\n",
        "    print(f\"Директорія тюнінгу не існує: {tuner_dir}\")\n",
        "\n",
        "# Видалення збереженої моделі, якщо вона існує\n",
        "if os.path.exists('best_model.keras'):\n",
        "    os.remove('best_model.keras')\n",
        "    print(\"Видалено збережену модель: best_model.keras\")\n",
        "else:\n",
        "    print(\"Збережена модель не існує: best_model.keras\")\n",
        "\n",
        "# Видалення файлу search_completed.json, якщо він існує\n",
        "if os.path.exists('search_completed.json'):\n",
        "    os.remove('search_completed.json')\n",
        "    print(\"Видалено файл search_completed.json\")\n",
        "else:\n",
        "    print(\"Файл search_completed.json не існує\")"
      ]
    }
  ]
}